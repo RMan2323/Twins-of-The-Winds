{
 "cells": [
  {
   "cell_type": "code",
   "execution_count": 1,
   "id": "ed7d2b20",
   "metadata": {},
   "outputs": [
    {
     "name": "stdout",
     "output_type": "stream",
     "text": [
      "NaN values filled and new file saved.\n"
     ]
    }
   ],
   "source": [
    "import pandas as pd\n",
    "from scipy.spatial import cKDTree\n",
    "\n",
    "# Load the CSV file\n",
    "file_path = r\"C:\\Users\\Dell\\Downloads\\train (1).csv\"\n",
    "df = pd.read_csv(file_path)\n",
    "\n",
    "# Merge 'year', 'month', and 'day' columns into a single 'date' column\n",
    "df['date'] = pd.to_datetime(df[['year', 'month', 'day']])\n",
    "\n",
    "# Extract necessary columns\n",
    "columns = ['date', 'latitude', 'longitude', 'zon.winds', 'mer.winds', 'humidity', 'air temp.']\n",
    "df_subset = df[columns].copy()\n",
    "\n",
    "# Function to fill NaN values with the nearest neighbor's value on the same date\n",
    "def fill_na_with_nearest(df, target_column):\n",
    "    # Get rows with and without NaNs in the target column\n",
    "    df_with_values = df.dropna(subset=[target_column])\n",
    "    df_na = df[df[target_column].isna()]\n",
    "\n",
    "    # Iterate over each unique date\n",
    "    for date in df['date'].unique():\n",
    "        same_date_with_values = df_with_values[df_with_values['date'] == date]\n",
    "        same_date_na = df_na[df_na['date'] == date]\n",
    "\n",
    "        if not same_date_with_values.empty and not same_date_na.empty:\n",
    "            kdtree = cKDTree(same_date_with_values[['latitude', 'longitude']])\n",
    "\n",
    "            for idx, row in same_date_na.iterrows():\n",
    "                distance, nn_idx = kdtree.query([row['latitude'], row['longitude']])\n",
    "                nn_value = same_date_with_values.iloc[nn_idx][target_column]\n",
    "                df.at[idx, target_column] = nn_value\n",
    "\n",
    "# Fill NaN values in the specified columns\n",
    "for column in ['zon.winds', 'mer.winds', 'humidity', 'air temp.']:\n",
    "    fill_na_with_nearest(df_subset, column)\n",
    "\n",
    "# Save the updated dataframe to a new CSV file\n",
    "output_path = r\"C:\\Users\\Dell\\Desktop\\python_project\\train_fill.csv\"\n",
    "df_subset.to_csv(output_path, index=False)\n",
    "\n",
    "print(\"NaN values filled and new file saved.\")"
   ]
  },
  {
   "cell_type": "code",
   "execution_count": 2,
   "id": "f85cad2a",
   "metadata": {},
   "outputs": [
    {
     "data": {
      "text/plain": [
       "date             0\n",
       "latitude         0\n",
       "longitude        0\n",
       "zon.winds       77\n",
       "mer.winds       77\n",
       "humidity     15971\n",
       "air temp.       33\n",
       "dtype: int64"
      ]
     },
     "execution_count": 2,
     "metadata": {},
     "output_type": "execute_result"
    }
   ],
   "source": [
    "data = pd.read_csv(r\"C:\\Users\\Dell\\Desktop\\python_project\\train_fill.csv\")\n",
    "data.apply(pd.isnull).sum()"
   ]
  },
  {
   "cell_type": "code",
   "execution_count": 1,
   "id": "1ee886a4",
   "metadata": {},
   "outputs": [
    {
     "data": {
      "text/plain": [
       "(date         0\n",
       " latitude     0\n",
       " longitude    0\n",
       " zon.winds    0\n",
       " mer.winds    0\n",
       " humidity     0\n",
       " air temp.    0\n",
       " dtype: int64,\n",
       " 'C:\\\\Users\\\\Dell\\\\Desktop\\\\train_fill_new.csv')"
      ]
     },
     "execution_count": 1,
     "metadata": {},
     "output_type": "execute_result"
    }
   ],
   "source": [
    "import pandas as pd\n",
    "from scipy.spatial import cKDTree\n",
    "\n",
    "# Load the dataset\n",
    "file_path = r\"C:\\Users\\Dell\\Desktop\\python_project\\train_fill.csv\"\n",
    "data = pd.read_csv(file_path)\n",
    "\n",
    "# Convert date column to datetime\n",
    "data['date'] = pd.to_datetime(data['date'])\n",
    "\n",
    "# Separate the columns with NaN values\n",
    "nan_cols = ['zon.winds', 'mer.winds', 'humidity', 'air temp.']\n",
    "\n",
    "# Function to fill NaN values using nearest neighbor method\n",
    "def fill_na_using_nearest(df, target_cols):\n",
    "    for col in target_cols:\n",
    "        # Find indices of rows with NaN values in the current column\n",
    "        nan_idx = df[df[col].isna()].index\n",
    "        \n",
    "        for idx in nan_idx:\n",
    "            row = df.loc[idx]\n",
    "            # Filter data for the same date\n",
    "            same_date_data = df[df['date'] == row['date']]\n",
    "            # Remove rows with NaN in the target column\n",
    "            same_date_data = same_date_data.dropna(subset=[col])\n",
    "            \n",
    "            if not same_date_data.empty:\n",
    "                # Build a k-d tree for fast spatial search\n",
    "                tree = cKDTree(same_date_data[['latitude', 'longitude']])\n",
    "                dist, nearest_idx = tree.query([row['latitude'], row['longitude']])\n",
    "                # Get the value from the nearest neighbor\n",
    "                nearest_value = same_date_data.iloc[nearest_idx][col]\n",
    "                # Fill the NaN value with the nearest value\n",
    "                df.at[idx, col] = nearest_value\n",
    "\n",
    "# Apply the function to fill NaN values using same date\n",
    "fill_na_using_nearest(data, nan_cols)\n",
    "\n",
    "# Function to fill NaN values using nearest neighbor method regardless of date\n",
    "def fill_na_using_nearest_any_date(df, target_cols):\n",
    "    for col in target_cols:\n",
    "        # Find indices of rows with NaN values in the current column\n",
    "        nan_idx = df[df[col].isna()].index\n",
    "        \n",
    "        for idx in nan_idx:\n",
    "            row = df.loc[idx]\n",
    "            # Remove rows with NaN in the target column\n",
    "            same_date_data = df.dropna(subset=[col])\n",
    "            \n",
    "            if not same_date_data.empty:\n",
    "                # Build a k-d tree for fast spatial search\n",
    "                tree = cKDTree(same_date_data[['latitude', 'longitude']])\n",
    "                dist, nearest_idx = tree.query([row['latitude'], row['longitude']])\n",
    "                # Get the value from the nearest neighbor\n",
    "                nearest_value = same_date_data.iloc[nearest_idx][col]\n",
    "                # Fill the NaN value with the nearest value\n",
    "                df.at[idx, col] = nearest_value\n",
    "\n",
    "# Apply the function to fill NaN values using any date\n",
    "fill_na_using_nearest_any_date(data, nan_cols)\n",
    "\n",
    "# Interpolate the remaining NaN values\n",
    "data[nan_cols] = data[nan_cols].interpolate(method='linear', axis=0)\n",
    "\n",
    "# Check if all NaN values are filled\n",
    "nan_counts = data.isna().sum()\n",
    "\n",
    "# Save the filled data to a new CSV file\n",
    "output_path =r\"C:\\Users\\Dell\\Desktop\\train_fill_new.csv\"\n",
    "data.to_csv(output_path, index=False)\n",
    "\n",
    "nan_counts, output_path\n"
   ]
  },
  {
   "cell_type": "code",
   "execution_count": null,
   "id": "d630fa00",
   "metadata": {},
   "outputs": [],
   "source": []
  }
 ],
 "metadata": {
  "kernelspec": {
   "display_name": "Python 3 (ipykernel)",
   "language": "python",
   "name": "python3"
  },
  "language_info": {
   "codemirror_mode": {
    "name": "ipython",
    "version": 3
   },
   "file_extension": ".py",
   "mimetype": "text/x-python",
   "name": "python",
   "nbconvert_exporter": "python",
   "pygments_lexer": "ipython3",
   "version": "3.11.7"
  }
 },
 "nbformat": 4,
 "nbformat_minor": 5
}
