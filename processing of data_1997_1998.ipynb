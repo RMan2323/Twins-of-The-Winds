{
 "cells": [
  {
   "cell_type": "code",
   "execution_count": 1,
   "id": "7066178a",
   "metadata": {},
   "outputs": [
    {
     "name": "stdout",
     "output_type": "stream",
     "text": [
      "NaN values filled and new file saved.\n"
     ]
    }
   ],
   "source": [
    "import pandas as pd\n",
    "from scipy.spatial import cKDTree\n",
    "\n",
    "# Load the CSV file\n",
    "file_path = r\"C:\\Users\\Dell\\Desktop\\data_1997_1998.csv\"\n",
    "df = pd.read_csv(file_path)\n",
    "\n",
    "# Merge 'year', 'month', and 'day' columns into a single 'date' column\n",
    "df['date'] = pd.to_datetime(df[['year', 'month', 'day']])\n",
    "\n",
    "# Extract necessary columns\n",
    "columns = ['date', 'latitude', 'longitude', 'zon.winds', 'mer.winds', 'humidity', 'air temp.']\n",
    "df_subset = df[columns].copy()\n",
    "\n",
    "# Function to fill NaN values with the nearest neighbor's value on the same date\n",
    "def fill_na_with_nearest(df, target_column):\n",
    "    # Get rows with and without NaNs in the target column\n",
    "    df_with_values = df.dropna(subset=[target_column])\n",
    "    df_na = df[df[target_column].isna()]\n",
    "\n",
    "    # Iterate over each unique date\n",
    "    for date in df['date'].unique():\n",
    "        same_date_with_values = df_with_values[df_with_values['date'] == date]\n",
    "        same_date_na = df_na[df_na['date'] == date]\n",
    "\n",
    "        if not same_date_with_values.empty and not same_date_na.empty:\n",
    "            kdtree = cKDTree(same_date_with_values[['latitude', 'longitude']])\n",
    "\n",
    "            for idx, row in same_date_na.iterrows():\n",
    "                distance, nn_idx = kdtree.query([row['latitude'], row['longitude']])\n",
    "                nn_value = same_date_with_values.iloc[nn_idx][target_column]\n",
    "                df.at[idx, target_column] = nn_value\n",
    "\n",
    "# Fill NaN values in the specified columns\n",
    "for column in ['zon.winds', 'mer.winds', 'humidity', 'air temp.']:\n",
    "    fill_na_with_nearest(df_subset, column)\n",
    "\n",
    "# Save the updated dataframe to a new CSV file\n",
    "output_path = r\"C:\\Users\\Dell\\Desktop\\python_project\\data_1997_1998_filled.csv\"\n",
    "df_subset.to_csv(output_path, index=False)\n",
    "\n",
    "print(\"NaN values filled and new file saved.\")\n"
   ]
  },
  {
   "cell_type": "code",
   "execution_count": 2,
   "id": "a764b47f",
   "metadata": {},
   "outputs": [
    {
     "data": {
      "text/plain": [
       "date         0\n",
       "latitude     0\n",
       "longitude    0\n",
       "zon.winds    0\n",
       "mer.winds    0\n",
       "humidity     0\n",
       "air temp.    0\n",
       "dtype: int64"
      ]
     },
     "execution_count": 2,
     "metadata": {},
     "output_type": "execute_result"
    }
   ],
   "source": [
    "n = pd.read_csv(r\"C:\\Users\\Dell\\Desktop\\python_project\\data_1997_1998_filled.csv\")\n",
    "n.apply(pd.isnull).sum()"
   ]
  },
  {
   "cell_type": "code",
   "execution_count": null,
   "id": "e9b970f5",
   "metadata": {},
   "outputs": [],
   "source": []
  }
 ],
 "metadata": {
  "kernelspec": {
   "display_name": "Python 3 (ipykernel)",
   "language": "python",
   "name": "python3"
  },
  "language_info": {
   "codemirror_mode": {
    "name": "ipython",
    "version": 3
   },
   "file_extension": ".py",
   "mimetype": "text/x-python",
   "name": "python",
   "nbconvert_exporter": "python",
   "pygments_lexer": "ipython3",
   "version": "3.11.7"
  }
 },
 "nbformat": 4,
 "nbformat_minor": 5
}
