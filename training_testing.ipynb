{
 "cells": [
  {
   "cell_type": "code",
   "execution_count": 9,
   "id": "7c9e077e",
   "metadata": {},
   "outputs": [
    {
     "name": "stdout",
     "output_type": "stream",
     "text": [
      "Mean Squared Error: 0.025361680643502305\n",
      "Model training complete. The model has been saved to 'sea_surface_temp_model.pkl'.\n"
     ]
    }
   ],
   "source": [
    "import pandas as pd\n",
    "from sklearn.model_selection import train_test_split\n",
    "from sklearn.ensemble import RandomForestRegressor\n",
    "from sklearn.metrics import mean_squared_error\n",
    "import joblib\n",
    "\n",
    "# Load the training data\n",
    "train_data = pd.read_csv(r\"C:\\Users\\Dell\\Desktop\\train_new1.csv\")\n",
    "\n",
    "# Define the feature columns and the target column\n",
    "feature_cols = ['latitude', 'longitude', 'zon.winds', 'mer.winds', 'humidity', 'air temp.']\n",
    "target_col = 's.s.temp.'\n",
    "\n",
    "# Extract features and target from the dataset\n",
    "X = train_data[feature_cols]\n",
    "y = train_data[target_col]\n",
    "\n",
    "# Split the data into training and testing sets\n",
    "X_train, X_test, y_train, y_test = train_test_split(X, y, test_size=0.2, random_state=42)\n",
    "\n",
    "# Train a Random Forest Regressor\n",
    "model = RandomForestRegressor(n_estimators=100, random_state=42)\n",
    "model.fit(X_train, y_train)\n",
    "\n",
    "# Evaluate the model\n",
    "y_pred = model.predict(X_test)\n",
    "mse = mean_squared_error(y_test, y_pred)\n",
    "print(f'Mean Squared Error: {mse}')\n",
    "\n",
    "# Save the trained model\n",
    "joblib.dump(model, 'sea_surface_temp_model.pkl')\n",
    "\n",
    "print(\"Model training complete. The model has been saved to 'sea_surface_temp_model.pkl'.\")\n"
   ]
  },
  {
   "cell_type": "code",
   "execution_count": 11,
   "id": "92a3545b",
   "metadata": {},
   "outputs": [],
   "source": [
    "def generate_surface_temp(test_file_path, model_path='sea_surface_temp_model.pkl'):\n",
    "    import joblib\n",
    "    # Load the test data\n",
    "    test_data = pd.read_csv(test_file_path)\n",
    "\n",
    "    # Define the columns used for prediction\n",
    "    cols_to_use = ['latitude', 'longitude', 'zon.winds', 'mer.winds', 'humidity', 'air temp.']\n",
    "\n",
    "    # Check if the test data has the necessary columns\n",
    "    for col in cols_to_use:\n",
    "        if col not in test_data.columns:\n",
    "            raise ValueError(f\"Test data is missing the required column: {col}\")\n",
    "\n",
    "    # Define features\n",
    "    X_test = test_data[cols_to_use]\n",
    "\n",
    "    # Load the trained model\n",
    "    model = joblib.load(model_path)\n",
    "\n",
    "    # Predict surface temperature\n",
    "    test_data['s.s.temp.'] = model.predict(X_test)\n",
    "    print('hi')\n",
    "\n",
    "    # Save the predictions to a new CSV file\n",
    "    output_file_path = test_file_path.replace('.csv', '_prediction.csv')\n",
    "    test_data.to_csv(output_file_path, index=False)\n",
    "    print(f'Surface temperature predictions saved to {output_file_path}')\n"
   ]
  },
  {
   "cell_type": "code",
   "execution_count": 12,
   "id": "f300df3d",
   "metadata": {},
   "outputs": [
    {
     "name": "stdout",
     "output_type": "stream",
     "text": [
      "hi\n",
      "Surface temperature predictions saved to C:\\Users\\Dell\\Desktop\\evaluate_new3_prediction.csv\n"
     ]
    }
   ],
   "source": [
    "generate_surface_temp(r\"C:\\Users\\Dell\\Desktop\\evaluate_new3.csv\")"
   ]
  },
  {
   "cell_type": "code",
   "execution_count": null,
   "id": "50fe11f0",
   "metadata": {},
   "outputs": [],
   "source": []
  }
 ],
 "metadata": {
  "language_info": {
   "codemirror_mode": {
    "name": "ipython",
    "version": 3
   },
   "file_extension": ".py",
   "mimetype": "text/x-python",
   "name": "python",
   "nbconvert_exporter": "python",
   "pygments_lexer": "ipython3",
   "version": "3.11.7"
  }
 },
 "nbformat": 4,
 "nbformat_minor": 5
}
